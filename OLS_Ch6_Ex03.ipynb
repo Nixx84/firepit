{
 "cells": [
  {
   "cell_type": "markdown",
   "metadata": {},
   "source": [
    "# OLS - Wooldridge Computer Exercise\n",
    "## Chapter 6, Exercise 3"
   ]
  },
  {
   "cell_type": "markdown",
   "metadata": {},
   "source": [
    "## To add a heading:\n",
    "- Insert a new cell\n",
    "- Type or paste-in content\n",
    "- Place a single / just one \"pound-sign\" in front of the heading content\n",
    "- Select \"Markdown\"\n",
    "- Press \"Shift\", \"Enter\" at same time to convert to clean commentary"
   ]
  },
  {
   "cell_type": "markdown",
   "metadata": {},
   "source": [
    "## To add a sub-heading:\n",
    "- Insert a new cell\n",
    "- Type or paste-in content\n",
    "- Place two \"pound-signs\" in front of the sub-heading\n",
    "- Select \"Markdown\"\n",
    "- Press \"Shift\", \"Enter\" at same time to convert to clean commentary"
   ]
  },
  {
   "cell_type": "markdown",
   "metadata": {},
   "source": [
    "## To add new bulleted documentation:\n",
    "\n",
    "- Insert a new cell\n",
    "- Type or paste-in content\n",
    "- Place a \"dash\" character in front of the bulleted content\n",
    "- Select \"Markdown\"\n",
    "- Press \"Shift\", \"Enter\" at same time to convert to clean commentary"
   ]
  },
  {
   "cell_type": "markdown",
   "metadata": {},
   "source": [
    "# References\n",
    "- Wooldridge, J.M. (2016). Introductory econometrics: A modern approach (6thed.). Mason, OH: South-Western, Cengage Learning.\n",
    "- Residual Plots: https://medium.com/@emredjan/emulating-r-regression-plots-in-python-43741952c034\n",
    "- Understanding residual plots: https://data.library.virginia.edu/diagnostic-plots/\n",
    "- VIF: https://etav.github.io/python/vif_factor_python.html\n",
    "- VIF: https://en.wikipedia.org/wiki/Variance_inflation_factor"
   ]
  },
  {
   "cell_type": "markdown",
   "metadata": {},
   "source": [
    "# Instantiate libraries"
   ]
  },
  {
   "cell_type": "code",
   "execution_count": 1,
   "metadata": {
    "collapsed": true
   },
   "outputs": [],
   "source": [
    "import pandas as pd\n",
    "import numpy as np\n",
    "import matplotlib.pyplot as plt\n",
    "import seaborn as sns\n",
    "%matplotlib inline\n",
    "\n",
    "import statsmodels\n",
    "import statsmodels.api as sm\n",
    "import statsmodels.stats.api as sms\n",
    "\n",
    "from statsmodels.formula.api import ols\n",
    "from statsmodels.compat import lzip\n",
    "from patsy import dmatrices\n",
    "from statsmodels.stats.outliers_influence import variance_inflation_factor\n",
    "\n",
    "from statsmodels.graphics.gofplots import ProbPlot\n",
    "\n",
    "#import pandas.tseries.api as sm\n",
    "#from tseries.formula.apt import ols\n",
    "\n",
    "from scipy.stats import ttest_ind, ttest_ind_from_stats\n",
    "from scipy.special import stdtr\n",
    "\n",
    "\n",
    "plt.style.use('seaborn') # pretty matplotlib plots\n",
    "\n",
    "plt.rc('font', size=14)\n",
    "plt.rc('figure', titlesize=18)\n",
    "plt.rc('axes', labelsize=15)\n",
    "plt.rc('axes', titlesize=18)\n"
   ]
  },
  {
   "cell_type": "markdown",
   "metadata": {},
   "source": [
    "# Data Read from csv"
   ]
  },
  {
   "cell_type": "code",
   "execution_count": 2,
   "metadata": {},
   "outputs": [
    {
     "name": "stdout",
     "output_type": "stream",
     "text": [
      "   wage  hours   IQ  KWW  educ  exper  tenure  age  married  black  south  \\\n",
      "0   769     40   93   35    12     11       2   31        1      0      0   \n",
      "1   808     50  119   41    18     11      16   37        1      0      0   \n",
      "2   825     40  108   46    14     11       9   33        1      0      0   \n",
      "3   650     40   96   32    12     13       7   32        1      0      0   \n",
      "4   562     40   74   27    11     14       5   34        1      0      0   \n",
      "\n",
      "   urban  sibs  brthord  meduc  feduc     lwage  \n",
      "0      1     1      2.0    8.0    8.0  6.645091  \n",
      "1      1     1      NaN   14.0   14.0  6.694562  \n",
      "2      1     1      2.0   14.0   14.0  6.715384  \n",
      "3      1     4      3.0   12.0   12.0  6.476973  \n",
      "4      1    10      6.0    6.0   11.0  6.331502  \n",
      "Wall time: 551 ms\n"
     ]
    }
   ],
   "source": [
    "%%time\n",
    "#df = pd.read_csv(BytesIO(csv_as_bytes),sep='|',nrows=100000)\n",
    "df1 = pd.read_stata('C://Users//Family//Documents//DataSetEconomics//Wooldridge//WAGE2.dta')\n",
    "print(df1.head())"
   ]
  },
  {
   "cell_type": "code",
   "execution_count": 3,
   "metadata": {
    "collapsed": true
   },
   "outputs": [],
   "source": [
    "df1['constant'] = 1"
   ]
  },
  {
   "cell_type": "markdown",
   "metadata": {},
   "source": [
    "# Data Checks\n",
    "- Columns"
   ]
  },
  {
   "cell_type": "code",
   "execution_count": 4,
   "metadata": {},
   "outputs": [
    {
     "name": "stdout",
     "output_type": "stream",
     "text": [
      "<class 'pandas.core.frame.DataFrame'>\n",
      "Int64Index: 935 entries, 0 to 934\n",
      "Data columns (total 18 columns):\n",
      "wage        935 non-null int16\n",
      "hours       935 non-null int8\n",
      "IQ          935 non-null int16\n",
      "KWW         935 non-null int8\n",
      "educ        935 non-null int8\n",
      "exper       935 non-null int8\n",
      "tenure      935 non-null int8\n",
      "age         935 non-null int8\n",
      "married     935 non-null int8\n",
      "black       935 non-null int8\n",
      "south       935 non-null int8\n",
      "urban       935 non-null int8\n",
      "sibs        935 non-null int8\n",
      "brthord     852 non-null float64\n",
      "meduc       857 non-null float64\n",
      "feduc       741 non-null float64\n",
      "lwage       935 non-null float32\n",
      "constant    935 non-null int64\n",
      "dtypes: float32(1), float64(3), int16(2), int64(1), int8(11)\n",
      "memory usage: 53.9 KB\n",
      "Wall time: 11 ms\n"
     ]
    }
   ],
   "source": [
    "%%time\n",
    "df1.info()"
   ]
  },
  {
   "cell_type": "markdown",
   "metadata": {},
   "source": [
    "# OLS: Regress lwage on educ, exper, exper^2 "
   ]
  },
  {
   "cell_type": "code",
   "execution_count": 4,
   "metadata": {},
   "outputs": [
    {
     "name": "stdout",
     "output_type": "stream",
     "text": [
      "                sum_sq     df           F        PR(>F)\n",
      "educ         21.607355    1.0  140.376716  2.908162e-30\n",
      "exper         5.539957    1.0   35.991493  2.834572e-09\n",
      "educ:exper    0.675313    1.0    4.387312  3.647715e-02\n",
      "Residual    143.303309  931.0         NaN           NaN\n",
      "                            OLS Regression Results                            \n",
      "==============================================================================\n",
      "Dep. Variable:                  lwage   R-squared:                       0.135\n",
      "Model:                            OLS   Adj. R-squared:                  0.132\n",
      "Method:                 Least Squares   F-statistic:                     48.41\n",
      "Date:                Thu, 06 Dec 2018   Prob (F-statistic):           4.47e-29\n",
      "Time:                        19:36:58   Log-Likelihood:                -449.87\n",
      "No. Observations:                 935   AIC:                             907.7\n",
      "Df Residuals:                     931   BIC:                             927.1\n",
      "Df Model:                           3                                         \n",
      "Covariance Type:            nonrobust                                         \n",
      "==============================================================================\n",
      "                 coef    std err          t      P>|t|      [0.025      0.975]\n",
      "------------------------------------------------------------------------------\n",
      "Intercept      5.9495      0.241     24.704      0.000       5.477       6.422\n",
      "educ           0.0440      0.017      2.533      0.011       0.010       0.078\n",
      "exper         -0.0215      0.020     -1.076      0.282      -0.061       0.018\n",
      "educ:exper     0.0032      0.002      2.095      0.036       0.000       0.006\n",
      "==============================================================================\n",
      "Omnibus:                       30.632   Durbin-Watson:                   1.789\n",
      "Prob(Omnibus):                  0.000   Jarque-Bera (JB):               39.721\n",
      "Skew:                          -0.344   Prob(JB):                     2.37e-09\n",
      "Kurtosis:                       3.739   Cond. No.                     3.03e+03\n",
      "==============================================================================\n",
      "\n",
      "Warnings:\n",
      "[1] Standard Errors assume that the covariance matrix of the errors is correctly specified.\n",
      "[2] The condition number is large, 3.03e+03. This might indicate that there are\n",
      "strong multicollinearity or other numerical problems.\n"
     ]
    }
   ],
   "source": [
    "\n",
    "formula = '''lwage ~ educ + exper + (educ*exper)\n",
    "'''\n",
    "#model = ols(formula, df).fit(cov_type='HC0')\n",
    "model = ols(formula, df1)\n",
    "results = model.fit()\n",
    "aov_table = statsmodels.stats.anova.anova_lm(results, typ=2)\n",
    "print(aov_table)\n",
    "print(results.summary())"
   ]
  },
  {
   "cell_type": "code",
   "execution_count": 5,
   "metadata": {},
   "outputs": [
    {
     "name": "stdout",
     "output_type": "stream",
     "text": [
      "Intercept     5.949455\n",
      "educ          0.044050\n",
      "exper        -0.021496\n",
      "educ:exper    0.003203\n",
      "dtype: float64\n",
      "13.468449197860963\n",
      "11.563636363636364\n",
      "0.044049796767684085\n",
      "-0.021495925819032535\n",
      "0.003202973747224915\n",
      "0.08718888596426522\n",
      "0.015542097876150122\n"
     ]
    }
   ],
   "source": [
    "mean_educ = np.mean(df1.educ)\n",
    "mean_exper = np.mean(df1.exper)\n",
    "print(results.params)\n",
    "coef_educ = results.params[\"educ\"]\n",
    "coef_exper = results.params[\"exper\"]\n",
    "coef_educ_exper = results.params[\"educ:exper\"]\n",
    "effect_educ = coef_educ+(coef_educ_exper*mean_educ)\n",
    "effect_exper = coef_exper+(coef_educ_exper*mean_exper)\n",
    "print(mean_educ)\n",
    "print(mean_exper)\n",
    "print(coef_educ)\n",
    "print(coef_exper)\n",
    "print(coef_educ_exper)\n",
    "print(effect_educ)\n",
    "print(effect_exper)"
   ]
  },
  {
   "cell_type": "code",
   "execution_count": null,
   "metadata": {
    "collapsed": true
   },
   "outputs": [],
   "source": []
  }
 ],
 "metadata": {
  "kernelspec": {
   "display_name": "Python 3",
   "language": "python",
   "name": "python3"
  },
  "language_info": {
   "codemirror_mode": {
    "name": "ipython",
    "version": 3
   },
   "file_extension": ".py",
   "mimetype": "text/x-python",
   "name": "python",
   "nbconvert_exporter": "python",
   "pygments_lexer": "ipython3",
   "version": "3.6.2"
  }
 },
 "nbformat": 4,
 "nbformat_minor": 2
}
