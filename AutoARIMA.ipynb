{
 "cells": [
  {
   "cell_type": "markdown",
   "metadata": {},
   "source": [
    "# Auto ARIMA"
   ]
  },
  {
   "cell_type": "markdown",
   "metadata": {},
   "source": [
    "## https://www.analyticsvidhya.com/blog/2018/08/auto-arima-time-series-modeling-python-r/"
   ]
  },
  {
   "cell_type": "markdown",
   "metadata": {},
   "source": [
    "## Load Data"
   ]
  },
  {
   "cell_type": "code",
   "execution_count": 2,
   "metadata": {},
   "outputs": [
    {
     "name": "stdout",
     "output_type": "stream",
     "text": [
      "Collecting pyramid-arima\n",
      "  Downloading https://files.pythonhosted.org/packages/67/a5/7067ba4029e0caae394f2212aaa4308861330d4bd2ca083f8613737ba2ba/pyramid-arima-0.8.1.tar.gz (515kB)\n",
      "Requirement already satisfied: Cython>=0.23 in c:\\program files (x86)\\microsoft visual studio\\shared\\anaconda3_64\\lib\\site-packages (from pyramid-arima) (0.26.1)\n",
      "Requirement already satisfied: numpy>=1.10 in c:\\program files (x86)\\microsoft visual studio\\shared\\anaconda3_64\\lib\\site-packages (from pyramid-arima) (1.14.2)\n",
      "Requirement already satisfied: scipy>=0.9 in c:\\program files (x86)\\microsoft visual studio\\shared\\anaconda3_64\\lib\\site-packages (from pyramid-arima) (0.19.1)\n",
      "Requirement already satisfied: scikit-learn>=0.17 in c:\\program files (x86)\\microsoft visual studio\\shared\\anaconda3_64\\lib\\site-packages (from pyramid-arima) (0.19.0)\n",
      "Requirement already satisfied: pandas>=0.19 in c:\\program files (x86)\\microsoft visual studio\\shared\\anaconda3_64\\lib\\site-packages (from pyramid-arima) (0.22.0)\n",
      "Collecting statsmodels>=0.9.0 (from pyramid-arima)\n",
      "  Downloading https://files.pythonhosted.org/packages/77/2b/8ba61399b31f984c263b177c2e2547a34f0d4d972a24a51fc77c376079b0/statsmodels-0.9.0-cp36-cp36m-win_amd64.whl (7.0MB)\n",
      "Requirement already satisfied: python-dateutil>=2 in c:\\program files (x86)\\microsoft visual studio\\shared\\anaconda3_64\\lib\\site-packages (from pandas>=0.19->pyramid-arima) (2.7.1)\n",
      "Requirement already satisfied: pytz>=2011k in c:\\program files (x86)\\microsoft visual studio\\shared\\anaconda3_64\\lib\\site-packages (from pandas>=0.19->pyramid-arima) (2018.3)\n",
      "Requirement already satisfied: six>=1.5 in c:\\program files (x86)\\microsoft visual studio\\shared\\anaconda3_64\\lib\\site-packages (from python-dateutil>=2->pandas>=0.19->pyramid-arima) (1.11.0)\n",
      "Building wheels for collected packages: pyramid-arima\n",
      "  Running setup.py bdist_wheel for pyramid-arima: started\n",
      "  Running setup.py bdist_wheel for pyramid-arima: finished with status 'error'\n",
      "  Complete output from command \"c:\\program files (x86)\\microsoft visual studio\\shared\\anaconda3_64\\python.exe\" -u -c \"import setuptools, tokenize;__file__='C:\\\\Users\\\\Family\\\\AppData\\\\Local\\\\Temp\\\\pip-install-b7tkdnpi\\\\pyramid-arima\\\\setup.py';f=getattr(tokenize, 'open', open)(__file__);code=f.read().replace('\\r\\n', '\\n');f.close();exec(compile(code, __file__, 'exec'))\" bdist_wheel -d C:\\Users\\Family\\AppData\\Local\\Temp\\pip-wheel-8aqr1kg5 --python-tag cp36:\n",
      "  Partial import of pyramid during the build process.\n",
      "  Requirements: ['Cython>=0.23\\nnumpy>=1.10\\nscipy>=0.9\\nscikit-learn>=0.17\\npandas>=0.19\\nstatsmodels>=0.9.0\\n']\n",
      "  Adding extra setuptools args\n",
      "  blas_opt_info:\n",
      "  blas_mkl_info:\n",
      "  No module named 'numpy.distutils._msvccompiler' in numpy.distutils; trying from distutils\n",
      "  customize MSVCCompiler\n",
      "    FOUND:\n",
      "      libraries = ['mkl_rt']\n",
      "      library_dirs = ['C:\\\\Program Files (x86)\\\\Microsoft Visual Studio\\\\Shared\\\\Anaconda3_64\\\\Library\\\\lib']\n",
      "      define_macros = [('SCIPY_MKL_H', None), ('HAVE_CBLAS', None)]\n",
      "      include_dirs = ['C:\\\\Program Files (x86)\\\\Microsoft Visual Studio\\\\Shared\\\\Anaconda3_64\\\\Library\\\\include', 'c:\\\\program files (x86)\\\\microsoft visual studio\\\\shared\\\\anaconda3_64\\\\include']\n",
      "  \n",
      "    FOUND:\n",
      "      libraries = ['mkl_rt']\n",
      "      library_dirs = ['C:\\\\Program Files (x86)\\\\Microsoft Visual Studio\\\\Shared\\\\Anaconda3_64\\\\Library\\\\lib']\n",
      "      define_macros = [('SCIPY_MKL_H', None), ('HAVE_CBLAS', None)]\n",
      "      include_dirs = ['C:\\\\Program Files (x86)\\\\Microsoft Visual Studio\\\\Shared\\\\Anaconda3_64\\\\Library\\\\include', 'c:\\\\program files (x86)\\\\microsoft visual studio\\\\shared\\\\anaconda3_64\\\\include']\n",
      "  \n",
      "  running bdist_wheel\n",
      "  running build\n",
      "  running config_cc\n",
      "  unifing config_cc, config, build_clib, build_ext, build commands --compiler options\n",
      "  running config_fc\n",
      "  unifing config_fc, config, build_clib, build_ext, build commands --fcompiler options\n",
      "  running build_src\n",
      "  build_src\n",
      "  building extension \"pyramid.__check_build._check_build\" sources\n",
      "  building extension \"pyramid.arima._arima\" sources\n",
      "  build_src: building npy-pkg config files\n",
      "  running build_py\n",
      "  creating build\n",
      "  creating build\\lib.win-amd64-3.6\n",
      "  creating build\\lib.win-amd64-3.6\\pyramid\n",
      "  copying pyramid\\setup.py -> build\\lib.win-amd64-3.6\\pyramid\n",
      "  copying pyramid\\_config.py -> build\\lib.win-amd64-3.6\\pyramid\n",
      "  copying pyramid\\__init__.py -> build\\lib.win-amd64-3.6\\pyramid\n",
      "  creating build\\lib.win-amd64-3.6\\pyramid\\__check_build\n",
      "  copying pyramid\\__check_build\\setup.py -> build\\lib.win-amd64-3.6\\pyramid\\__check_build\n",
      "  copying pyramid\\__check_build\\__init__.py -> build\\lib.win-amd64-3.6\\pyramid\\__check_build\n",
      "  creating build\\lib.win-amd64-3.6\\pyramid\\__check_build\\tests\n",
      "  copying pyramid\\__check_build\\tests\\test_check_build.py -> build\\lib.win-amd64-3.6\\pyramid\\__check_build/tests\n",
      "  copying pyramid\\__check_build\\tests\\__init__.py -> build\\lib.win-amd64-3.6\\pyramid\\__check_build/tests\n",
      "  creating build\\lib.win-amd64-3.6\\pyramid\\_build_utils\n",
      "  copying pyramid\\_build_utils\\__init__.py -> build\\lib.win-amd64-3.6\\pyramid\\_build_utils\n",
      "  creating build\\lib.win-amd64-3.6\\pyramid\\_build_utils\\tests\n",
      "  copying pyramid\\_build_utils\\tests\\__init__.py -> build\\lib.win-amd64-3.6\\pyramid\\_build_utils/tests\n",
      "  creating build\\lib.win-amd64-3.6\\pyramid\\compat\n",
      "  copying pyramid\\compat\\matplotlib.py -> build\\lib.win-amd64-3.6\\pyramid\\compat\n",
      "  copying pyramid\\compat\\numpy.py -> build\\lib.win-amd64-3.6\\pyramid\\compat\n",
      "  copying pyramid\\compat\\pandas.py -> build\\lib.win-amd64-3.6\\pyramid\\compat\n",
      "  copying pyramid\\compat\\python.py -> build\\lib.win-amd64-3.6\\pyramid\\compat\n",
      "  copying pyramid\\compat\\__init__.py -> build\\lib.win-amd64-3.6\\pyramid\\compat\n",
      "  creating build\\lib.win-amd64-3.6\\pyramid\\compat\\tests\n",
      "  copying pyramid\\compat\\tests\\test_compat.py -> build\\lib.win-amd64-3.6\\pyramid\\compat/tests\n",
      "  copying pyramid\\compat\\tests\\__init__.py -> build\\lib.win-amd64-3.6\\pyramid\\compat/tests\n",
      "  creating build\\lib.win-amd64-3.6\\pyramid\\datasets\n",
      "  copying pyramid\\datasets\\heartrate.py -> build\\lib.win-amd64-3.6\\pyramid\\datasets\n",
      "  copying pyramid\\datasets\\lynx.py -> build\\lib.win-amd64-3.6\\pyramid\\datasets\n",
      "  copying pyramid\\datasets\\wineind.py -> build\\lib.win-amd64-3.6\\pyramid\\datasets\n",
      "  copying pyramid\\datasets\\woolyrnq.py -> build\\lib.win-amd64-3.6\\pyramid\\datasets\n",
      "  copying pyramid\\datasets\\__init__.py -> build\\lib.win-amd64-3.6\\pyramid\\datasets\n",
      "  creating build\\lib.win-amd64-3.6\\pyramid\\utils\n",
      "  copying pyramid\\utils\\array.py -> build\\lib.win-amd64-3.6\\pyramid\\utils\n",
      "  copying pyramid\\utils\\metaestimators.py -> build\\lib.win-amd64-3.6\\pyramid\\utils\n",
      "  copying pyramid\\utils\\testing.py -> build\\lib.win-amd64-3.6\\pyramid\\utils\n",
      "  copying pyramid\\utils\\visualization.py -> build\\lib.win-amd64-3.6\\pyramid\\utils\n",
      "  copying pyramid\\utils\\wrapped.py -> build\\lib.win-amd64-3.6\\pyramid\\utils\n",
      "  copying pyramid\\utils\\__init__.py -> build\\lib.win-amd64-3.6\\pyramid\\utils\n",
      "  creating build\\lib.win-amd64-3.6\\pyramid\\utils\\tests\n",
      "  copying pyramid\\utils\\tests\\test_array.py -> build\\lib.win-amd64-3.6\\pyramid\\utils/tests\n",
      "  copying pyramid\\utils\\tests\\test_meta.py -> build\\lib.win-amd64-3.6\\pyramid\\utils/tests\n",
      "  copying pyramid\\utils\\tests\\test_testing.py -> build\\lib.win-amd64-3.6\\pyramid\\utils/tests\n",
      "  copying pyramid\\utils\\tests\\test_vis.py -> build\\lib.win-amd64-3.6\\pyramid\\utils/tests\n",
      "  copying pyramid\\utils\\tests\\test_wrapped.py -> build\\lib.win-amd64-3.6\\pyramid\\utils/tests\n",
      "  copying pyramid\\utils\\tests\\__init__.py -> build\\lib.win-amd64-3.6\\pyramid\\utils/tests\n",
      "  creating build\\lib.win-amd64-3.6\\pyramid\\arima\n",
      "  copying pyramid\\arima\\approx.py -> build\\lib.win-amd64-3.6\\pyramid\\arima\n",
      "  copying pyramid\\arima\\arima.py -> build\\lib.win-amd64-3.6\\pyramid\\arima\n",
      "  copying pyramid\\arima\\auto.py -> build\\lib.win-amd64-3.6\\pyramid\\arima\n",
      "  copying pyramid\\arima\\seasonality.py -> build\\lib.win-amd64-3.6\\pyramid\\arima\n",
      "  copying pyramid\\arima\\setup.py -> build\\lib.win-amd64-3.6\\pyramid\\arima\n",
      "  copying pyramid\\arima\\stationarity.py -> build\\lib.win-amd64-3.6\\pyramid\\arima\n",
      "  copying pyramid\\arima\\utils.py -> build\\lib.win-amd64-3.6\\pyramid\\arima\n",
      "  copying pyramid\\arima\\warnings.py -> build\\lib.win-amd64-3.6\\pyramid\\arima\n",
      "  copying pyramid\\arima\\__init__.py -> build\\lib.win-amd64-3.6\\pyramid\\arima\n",
      "  creating build\\lib.win-amd64-3.6\\pyramid\\arima\\tests\n",
      "  copying pyramid\\arima\\tests\\test_approx.py -> build\\lib.win-amd64-3.6\\pyramid\\arima\\tests\n",
      "  copying pyramid\\arima\\tests\\test_arima.py -> build\\lib.win-amd64-3.6\\pyramid\\arima\\tests\n",
      "  copying pyramid\\arima\\tests\\test_c_arima.py -> build\\lib.win-amd64-3.6\\pyramid\\arima\\tests\n",
      "  copying pyramid\\arima\\tests\\test_stationarity.py -> build\\lib.win-amd64-3.6\\pyramid\\arima\\tests\n",
      "  copying pyramid\\arima\\tests\\__init__.py -> build\\lib.win-amd64-3.6\\pyramid\\arima\\tests\n",
      "  running build_ext\n",
      "  No module named 'numpy.distutils._msvccompiler' in numpy.distutils; trying from distutils\n",
      "  customize MSVCCompiler\n",
      "  customize MSVCCompiler using build_ext\n",
      "  building 'pyramid.__check_build._check_build' extension\n",
      "  compiling C sources\n",
      "  error: Microsoft Visual C++ 14.0 is required. Get it with \"Microsoft Visual C++ Build Tools\": http://landinghub.visualstudio.com/visual-cpp-build-tools\n",
      "  \n",
      "  ----------------------------------------\n",
      "  Running setup.py clean for pyramid-arima\n",
      "Failed to build pyramid-arima\n",
      "Installing collected packages: statsmodels, pyramid-arima\n",
      "  Found existing installation: statsmodels 0.8.0\n",
      "    Uninstalling statsmodels-0.8.0:\n"
     ]
    },
    {
     "name": "stderr",
     "output_type": "stream",
     "text": [
      "  Failed building wheel for pyramid-arima\n",
      "Could not install packages due to an EnvironmentError: [WinError 5] Access is denied: 'c:\\\\program files (x86)\\\\microsoft visual studio\\\\shared\\\\anaconda3_64\\\\lib\\\\site-packages\\\\statsmodels\\\\api.py'\n",
      "Consider using the `--user` option or check the permissions.\n",
      "\n",
      "You are using pip version 10.0.1, however version 18.0 is available.\n",
      "You should consider upgrading via the 'python -m pip install --upgrade pip' command.\n"
     ]
    },
    {
     "ename": "ModuleNotFoundError",
     "evalue": "No module named 'pyramid'",
     "output_type": "error",
     "traceback": [
      "\u001b[1;31m---------------------------------------------------------------------------\u001b[0m",
      "\u001b[1;31mModuleNotFoundError\u001b[0m                       Traceback (most recent call last)",
      "\u001b[1;32m<ipython-input-2-c2708440aa0a>\u001b[0m in \u001b[0;36m<module>\u001b[1;34m()\u001b[0m\n\u001b[0;32m      9\u001b[0m \u001b[1;32mfrom\u001b[0m \u001b[0mmatplotlib\u001b[0m \u001b[1;32mimport\u001b[0m \u001b[0mrcParams\u001b[0m\u001b[1;33m\u001b[0m\u001b[0m\n\u001b[0;32m     10\u001b[0m \u001b[0mrcParams\u001b[0m\u001b[1;33m[\u001b[0m\u001b[1;34m'figure.figsize'\u001b[0m\u001b[1;33m]\u001b[0m \u001b[1;33m=\u001b[0m \u001b[1;36m15\u001b[0m\u001b[1;33m,\u001b[0m\u001b[1;36m6\u001b[0m\u001b[1;33m\u001b[0m\u001b[0m\n\u001b[1;32m---> 11\u001b[1;33m \u001b[1;32mfrom\u001b[0m \u001b[0mpyramid\u001b[0m \u001b[1;32mimport\u001b[0m \u001b[0mautoarima\u001b[0m\u001b[1;33m\u001b[0m\u001b[0m\n\u001b[0m",
      "\u001b[1;31mModuleNotFoundError\u001b[0m: No module named 'pyramid'"
     ]
    }
   ],
   "source": [
    "!pip install pyramid-arima\n",
    "\n",
    "import pandas as pd\n",
    "import numpy as np\n",
    "\n",
    "import matplotlib.pylab as plt\n",
    "import matplotlib as mpl\n",
    "%matplotlib inline\n",
    "from matplotlib import rcParams\n",
    "rcParams['figure.figsize'] = 15,6\n",
    "from pyramid import autoarima"
   ]
  },
  {
   "cell_type": "code",
   "execution_count": 2,
   "metadata": {},
   "outputs": [
    {
     "name": "stdout",
     "output_type": "stream",
     "text": [
      "     Month  #Passengers\n",
      "0  1949-01          112\n",
      "1  1949-02          118\n",
      "2  1949-03          132\n",
      "3  1949-04          129\n",
      "4  1949-05          121\n",
      "/n Data Types:\n",
      "Month          object\n",
      "#Passengers     int64\n",
      "dtype: object\n"
     ]
    }
   ],
   "source": [
    "data = pd.read_csv('C://Users//Family//Downloads//AirPassengers.csv')\n",
    "print(data.head())\n",
    "print('/n Data Types:')\n",
    "print(data.dtypes)"
   ]
  },
  {
   "cell_type": "code",
   "execution_count": 4,
   "metadata": {},
   "outputs": [
    {
     "name": "stdout",
     "output_type": "stream",
     "text": [
      "            #Passengers\n",
      "Month                  \n",
      "1949-01-01          112\n",
      "1949-02-01          118\n",
      "1949-03-01          132\n",
      "1949-04-01          129\n",
      "1949-05-01          121\n",
      "/n Data Types:\n",
      "#Passengers    int64\n",
      "dtype: object\n"
     ]
    },
    {
     "data": {
      "text/plain": [
       "DatetimeIndex(['1949-01-01', '1949-02-01', '1949-03-01', '1949-04-01',\n",
       "               '1949-05-01', '1949-06-01', '1949-07-01', '1949-08-01',\n",
       "               '1949-09-01', '1949-10-01',\n",
       "               ...\n",
       "               '1960-03-01', '1960-04-01', '1960-05-01', '1960-06-01',\n",
       "               '1960-07-01', '1960-08-01', '1960-09-01', '1960-10-01',\n",
       "               '1960-11-01', '1960-12-01'],\n",
       "              dtype='datetime64[ns]', name='Month', length=144, freq=None)"
      ]
     },
     "execution_count": 4,
     "metadata": {},
     "output_type": "execute_result"
    }
   ],
   "source": [
    "dateparse = lambda dates: pd.datetime.strptime(dates, '%Y-%m')\n",
    "data = pd.read_csv('C://Users//Family//Downloads//AirPassengers.csv', parse_dates=['Month'], index_col='Month',date_parser=dateparse)\n",
    "print(data.head())\n",
    "print('/n Data Types:')\n",
    "print(data.dtypes)\n",
    "data.index"
   ]
  },
  {
   "cell_type": "code",
   "execution_count": 11,
   "metadata": {},
   "outputs": [
    {
     "name": "stdout",
     "output_type": "stream",
     "text": [
      "            #Passengers\n",
      "Month                  \n",
      "1949-01-01          112\n",
      "1949-02-01          118\n",
      "1949-03-01          132\n",
      "1949-04-01          129\n",
      "1949-05-01          121\n",
      "1949-06-01          135\n",
      "1949-07-01          148\n",
      "1949-08-01          148\n",
      "1949-09-01          136\n",
      "1949-10-01          119\n"
     ]
    },
    {
     "data": {
      "text/plain": [
       "<matplotlib.axes._subplots.AxesSubplot at 0x2b3941af4e0>"
      ]
     },
     "execution_count": 11,
     "metadata": {},
     "output_type": "execute_result"
    },
    {
     "data": {
      "image/png": "[encoded data removed]",
      "text/plain": [
       "<matplotlib.figure.Figure at 0x2b39420e4e0>"
      ]
     },
     "metadata": {},
     "output_type": "display_data"
    }
   ],
   "source": [
    "# Divide into Training / Validation set\n",
    "train = data[:int(0.7*(len(data)))]\n",
    "valid = data[int(0.7*(len(data))):]\n",
    "\n",
    "# Preprocessing (since ARIMA takes a univariate time series as input)\n",
    "#train.drop('Month',axis=1,inplace=True)\n",
    "#valid.drop('Month',axis=1,inplace=True)\n",
    "\n",
    "# Plotting the series\n",
    "train['#Passengers'].plot()\n",
    "valid['#Passengers'].plot()\n"
   ]
  },
  {
   "cell_type": "code",
   "execution_count": 12,
   "metadata": {},
   "outputs": [
    {
     "ename": "ModuleNotFoundError",
     "evalue": "No module named 'pyramid'",
     "output_type": "error",
     "traceback": [
      "\u001b[1;31m---------------------------------------------------------------------------\u001b[0m",
      "\u001b[1;31mModuleNotFoundError\u001b[0m                       Traceback (most recent call last)",
      "\u001b[1;32m<ipython-input-12-9655ade32c61>\u001b[0m in \u001b[0;36m<module>\u001b[1;34m()\u001b[0m\n\u001b[0;32m      1\u001b[0m \u001b[1;31m# Building the Model\u001b[0m\u001b[1;33m\u001b[0m\u001b[1;33m\u001b[0m\u001b[0m\n\u001b[1;32m----> 2\u001b[1;33m \u001b[1;32mfrom\u001b[0m \u001b[0mpyramid\u001b[0m\u001b[1;33m.\u001b[0m\u001b[0marima\u001b[0m \u001b[1;32mimport\u001b[0m \u001b[0mauto_arima\u001b[0m\u001b[1;33m\u001b[0m\u001b[0m\n\u001b[0m\u001b[0;32m      3\u001b[0m \u001b[0mmodel\u001b[0m \u001b[1;33m=\u001b[0m \u001b[0mauto_arima\u001b[0m\u001b[1;33m(\u001b[0m\u001b[0mtrain\u001b[0m\u001b[1;33m,\u001b[0m \u001b[0mtrace\u001b[0m \u001b[1;33m=\u001b[0m \u001b[1;32mTrue\u001b[0m\u001b[1;33m,\u001b[0m \u001b[0merror_action\u001b[0m\u001b[1;33m=\u001b[0m\u001b[1;34m'ignore'\u001b[0m\u001b[1;33m,\u001b[0m \u001b[0msuppress_warnings\u001b[0m\u001b[1;33m=\u001b[0m\u001b[1;32mTrue\u001b[0m\u001b[1;33m)\u001b[0m\u001b[1;33m\u001b[0m\u001b[0m\n\u001b[0;32m      4\u001b[0m \u001b[0mmodel\u001b[0m\u001b[1;33m.\u001b[0m\u001b[0mfit\u001b[0m\u001b[1;33m(\u001b[0m\u001b[0mtrain\u001b[0m\u001b[1;33m)\u001b[0m\u001b[1;33m\u001b[0m\u001b[0m\n\u001b[0;32m      5\u001b[0m \u001b[1;33m\u001b[0m\u001b[0m\n",
      "\u001b[1;31mModuleNotFoundError\u001b[0m: No module named 'pyramid'"
     ]
    }
   ],
   "source": [
    "# Building the Model\n",
    "from pyramid.arima import auto_arima\n",
    "model = auto_arima(train, trace = True, error_action='ignore', suppress_warnings=True)\n",
    "model.fit(train)\n",
    "\n",
    "forecast = model.predict(n_periods=len(valid))\n",
    "forecast = pd.DataFrame(forecast,index= valid.index, columns=['Prediction'])\n",
    "\n",
    "# Plot the predictions\n",
    "plt.plot(train, label='Train')\n",
    "plt.plot(valid, label='Valid')\n",
    "plt.plot(forecast, label='Prediction')\n",
    "plt.show()"
   ]
  },
  {
   "cell_type": "code",
   "execution_count": null,
   "metadata": {
    "collapsed": true
   },
   "outputs": [],
   "source": []
  }
 ],
 "metadata": {
  "kernelspec": {
   "display_name": "Python 3",
   "language": "python",
   "name": "python3"
  },
  "language_info": {
   "codemirror_mode": {
    "name": "ipython",
    "version": 3
   },
   "file_extension": ".py",
   "mimetype": "text/x-python",
   "name": "python",
   "nbconvert_exporter": "python",
   "pygments_lexer": "ipython3",
   "version": "3.6.2"
  }
 },
 "nbformat": 4,
 "nbformat_minor": 2
}
