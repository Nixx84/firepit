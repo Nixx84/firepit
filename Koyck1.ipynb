{
 "cells": [
  {
   "cell_type": "markdown",
   "metadata": {},
   "source": [
    "# Distributed Lag Models - Koyck Transformation"
   ]
  },
  {
   "cell_type": "markdown",
   "metadata": {},
   "source": [
    "- Salvatore, Dominic & Reagle, Derrick; Shaum's Outlines: Statistics and Econometrics; 2nd Edition; 2002; pg. 182-183"
   ]
  },
  {
   "cell_type": "markdown",
   "metadata": {},
   "source": [
    "## Import Libraries"
   ]
  },
  {
   "cell_type": "code",
   "execution_count": 5,
   "metadata": {
    "collapsed": true
   },
   "outputs": [],
   "source": [
    "import pandas as pd\n",
    "import numpy as np\n",
    "import statsmodels.api as sm\n",
    "from statsmodels.sandbox.regression.predstd import wls_prediction_std\n",
    "\n",
    "import matplotlib.pylab as plt\n",
    "import matplotlib as mpl\n",
    "%matplotlib inline\n",
    "from matplotlib import rcParams\n",
    "rcParams['figure.figsize'] = 15,6\n"
   ]
  },
  {
   "cell_type": "markdown",
   "metadata": {},
   "source": [
    "- The premise for the Koyck transformation is that Y is sluggish to respond to a stimulus\n",
    "- Types of stimulus might include: (policy change / advertising / medication)\n",
    "- Therefore Y in period t is dependent on variable(s) observed in prior time periods. \n",
    "- The number of time periods may be known/small or they may need to be estimated."
   ]
  },
  {
   "cell_type": "markdown",
   "metadata": {},
   "source": [
    "## Import Data - create lag in inventories and drop the first observation"
   ]
  },
  {
   "cell_type": "code",
   "execution_count": 16,
   "metadata": {},
   "outputs": [
    {
     "name": "stdout",
     "output_type": "stream",
     "text": [
      "      Inventories  Sales  constant  Inventories_L1\n",
      "Year                                              \n",
      "1981          546    345         1             NaN\n",
      "1982          574    344         1           546.0\n",
      "1983          590    396         1           574.0\n",
      "1984          650    417         1           590.0\n",
      "1985          664    428         1           650.0\n",
      "      Inventories  Sales  constant  Inventories_L1\n",
      "Year                                              \n",
      "1982          574    344         1           546.0\n",
      "1983          590    396         1           574.0\n",
      "1984          650    417         1           590.0\n",
      "1985          664    428         1           650.0\n",
      "1986          663    445         1           664.0\n",
      "1987          710    473         1           663.0\n",
      "1988          767    522         1           710.0\n",
      "1989          815    533         1           767.0\n",
      "1990          841    542         1           815.0\n",
      "1991          835    542         1           841.0\n",
      "1992          843    585         1           835.0\n",
      "1993          870    609         1           843.0\n",
      "1994          935    672         1           870.0\n",
      "1995          996    701         1           935.0\n",
      "1996         1014    730         1           996.0\n",
      "1997         1062    769         1          1014.0\n",
      "1998         1100    797         1          1062.0\n",
      "1999         1151    872         1          1100.0\n",
      "/n Data Types:\n",
      "Inventories         int64\n",
      "Sales               int64\n",
      "constant            int64\n",
      "Inventories_L1    float64\n",
      "dtype: object\n"
     ]
    }
   ],
   "source": [
    "data = pd.read_csv('C://Users//Family//Downloads//KoyceData815.csv', index_col='Year')\n",
    "data['constant'] = 1\n",
    "data['Inventories_L1'] = data.Inventories.shift(1)\n",
    "print(data.head())\n",
    "data1 = data.iloc[1:19,:]\n",
    "print(data1)\n",
    "print('/n Data Types:')\n",
    "print(data1.dtypes)"
   ]
  },
  {
   "cell_type": "markdown",
   "metadata": {},
   "source": [
    "## Estimate the model"
   ]
  },
  {
   "cell_type": "code",
   "execution_count": 17,
   "metadata": {},
   "outputs": [
    {
     "name": "stdout",
     "output_type": "stream",
     "text": [
      "                            OLS Regression Results                            \n",
      "==============================================================================\n",
      "Dep. Variable:            Inventories   R-squared:                       0.994\n",
      "Model:                            OLS   Adj. R-squared:                  0.993\n",
      "Method:                 Least Squares   F-statistic:                     1152.\n",
      "Date:                Tue, 25 Sep 2018   Prob (F-statistic):           3.81e-17\n",
      "Time:                        20:32:32   Log-Likelihood:                -72.831\n",
      "No. Observations:                  18   AIC:                             151.7\n",
      "Df Residuals:                      15   BIC:                             154.3\n",
      "Df Model:                           2                                         \n",
      "Covariance Type:            nonrobust                                         \n",
      "==================================================================================\n",
      "                     coef    std err          t      P>|t|      [0.025      0.975]\n",
      "----------------------------------------------------------------------------------\n",
      "constant          88.3716     24.248      3.644      0.002      36.688     140.055\n",
      "Sales              0.6031      0.134      4.490      0.000       0.317       0.889\n",
      "Inventories_L1     0.4996      0.119      4.200      0.001       0.246       0.753\n",
      "==============================================================================\n",
      "Omnibus:                        0.887   Durbin-Watson:                   1.934\n",
      "Prob(Omnibus):                  0.642   Jarque-Bera (JB):                0.768\n",
      "Skew:                          -0.222   Prob(JB):                        0.681\n",
      "Kurtosis:                       2.090   Cond. No.                     6.88e+03\n",
      "==============================================================================\n",
      "\n",
      "Warnings:\n",
      "[1] Standard Errors assume that the covariance matrix of the errors is correctly specified.\n",
      "[2] The condition number is large, 6.88e+03. This might indicate that there are\n",
      "strong multicollinearity or other numerical problems.\n"
     ]
    },
    {
     "name": "stderr",
     "output_type": "stream",
     "text": [
      "C:\\Program Files (x86)\\Microsoft Visual Studio\\Shared\\Anaconda3_64\\lib\\site-packages\\scipy\\stats\\stats.py:1334: UserWarning: kurtosistest only valid for n>=20 ... continuing anyway, n=18\n",
      "  \"anyway, n=%i\" % int(n))\n"
     ]
    }
   ],
   "source": [
    "model = sm.OLS(data1.Inventories, data1[['constant','Sales','Inventories_L1']])\n",
    "results = model.fit()\n",
    "print(results.summary())"
   ]
  },
  {
   "cell_type": "markdown",
   "metadata": {
    "collapsed": true
   },
   "source": [
    "- Lambda represents the geometric decline in weight from prior period.\n",
    "- lambda = coeff(Inventories_L1) = .4996 = .50 ==> for period 1, the mean declines by 50% and continues to decline by same percentage for each subsequent time period.\n",
    "- alpha ==> alpha*(1-lambda) = 88.3716  ==> alpha = 88.3716/(1-.50) = 176.7432\n",
    "\n",
    "- The above model estimators are biased and inconsistent.\n",
    "- The above model also assumes the fixed geometric decline (.50) which is rarely observed in the wild."
   ]
  },
  {
   "cell_type": "markdown",
   "metadata": {},
   "source": [
    "## Almon Lag Model"
   ]
  },
  {
   "cell_type": "code",
   "execution_count": null,
   "metadata": {
    "collapsed": true
   },
   "outputs": [],
   "source": []
  }
 ],
 "metadata": {
  "kernelspec": {
   "display_name": "Python 3",
   "language": "python",
   "name": "python3"
  },
  "language_info": {
   "codemirror_mode": {
    "name": "ipython",
    "version": 3
   },
   "file_extension": ".py",
   "mimetype": "text/x-python",
   "name": "python",
   "nbconvert_exporter": "python",
   "pygments_lexer": "ipython3",
   "version": "3.6.2"
  }
 },
 "nbformat": 4,
 "nbformat_minor": 2
}
