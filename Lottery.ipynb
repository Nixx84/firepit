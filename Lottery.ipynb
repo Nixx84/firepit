{
 "cells": [
  {
   "cell_type": "code",
   "execution_count": 2,
   "metadata": {},
   "outputs": [],
   "source": [
    "import numpy as np\n",
    "from random import *\n",
    "\n",
    "def randomList():\n",
    "    if len(z) == 6:\n",
    "        print(z)\n",
    "        a1 = set(range(0,10))\n",
    "        a2 = set(range(0,10))\n",
    "        a3 = set(range(0,10))\n",
    "        a4 = set(range(0,10))\n",
    "        a5 = set(range(0,10))\n",
    "        a6 = set(range(0,10))\n",
    "        x1 = set(sample(a1,  1))   # Pick a random item from the list\n",
    "        x2 = set(sample(a2,  1))   # Pick a random item from the list\n",
    "        x3 = set(sample(a3,  1))   # Pick a random item from the list\n",
    "        x4 = set(sample(a4,  1))   # Pick a random item from the list\n",
    "        x5 = set(sample(a5,  1))   # Pick a random item from the list\n",
    "        x6 = set(sample(a6,  1))   # Pick a random item from the list\n",
    "        x = (x1, x2, x3, x4, x5, x6)\n",
    "        x7 = x1.union(x2)\n",
    "        x8 = x7.union(x3)\n",
    "        x9 = x8.union(x4)\n",
    "        x10 = x9.union(x5)\n",
    "        x11 = x10.union(x6)\n",
    "        y = x11.intersection(z)\n",
    "        print(\"The user entered:\" , z)\n",
    "        print(\"The six digit lottery number is:\" , x)\n",
    "        print(\"The unique lottery SET is:\" , x11)\n",
    "        print(\"The intersection of user entered and lottery is:\" , y)\n",
    "        print(\"You matched \" , len(y), \"digits!\")\n",
    "    else:\n",
    "        print(\"Sorry, re-enter your 6 digit number, separate each digit by spaces from one line:\")"
   ]
  },
  {
   "cell_type": "code",
   "execution_count": 3,
   "metadata": {},
   "outputs": [
    {
     "name": "stdout",
     "output_type": "stream",
     "text": [
      "Enter your 6 digit number, separate each digit by spaces from one line:1,2,3,4,5,6\n",
      "{1, 2, 3, 4, 5, 6}\n",
      "The user entered: {1, 2, 3, 4, 5, 6}\n",
      "The six digit lottery number is: ({9}, {4}, {4}, {1}, {9}, {0})\n",
      "The unique lottery SET is: {0, 9, 4, 1}\n",
      "The intersection of user entered and lottery is: {1, 4}\n",
      "You matched  2 digits!\n"
     ]
    }
   ],
   "source": [
    "z = set(eval(input(\"Enter your 6 digit number, separate each digit by spaces from one line:\")))\n",
    "randomList()"
   ]
  },
  {
   "cell_type": "code",
   "execution_count": null,
   "metadata": {
    "collapsed": true
   },
   "outputs": [],
   "source": []
  },
  {
   "cell_type": "code",
   "execution_count": null,
   "metadata": {
    "collapsed": true
   },
   "outputs": [],
   "source": []
  },
  {
   "cell_type": "code",
   "execution_count": null,
   "metadata": {
    "collapsed": true
   },
   "outputs": [],
   "source": []
  },
  {
   "cell_type": "code",
   "execution_count": null,
   "metadata": {
    "collapsed": true
   },
   "outputs": [],
   "source": []
  }
 ],
 "metadata": {
  "kernelspec": {
   "display_name": "Python 3",
   "language": "python",
   "name": "python3"
  },
  "language_info": {
   "codemirror_mode": {
    "name": "ipython",
    "version": 3
   },
   "file_extension": ".py",
   "mimetype": "text/x-python",
   "name": "python",
   "nbconvert_exporter": "python",
   "pygments_lexer": "ipython3",
   "version": "3.6.2"
  }
 },
 "nbformat": 4,
 "nbformat_minor": 2
}
