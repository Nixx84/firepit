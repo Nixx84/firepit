{
 "cells": [
  {
   "cell_type": "markdown",
   "metadata": {},
   "source": [
    "# Quadratic Equation"
   ]
  },
  {
   "cell_type": "markdown",
   "metadata": {},
   "source": [
    "## 1. The program does not work at all."
   ]
  },
  {
   "cell_type": "code",
   "execution_count": 11,
   "metadata": {
    "collapsed": true
   },
   "outputs": [],
   "source": [
    "import math"
   ]
  },
  {
   "cell_type": "markdown",
   "metadata": {},
   "source": [
    "* The correct definition for discriminant is:"
   ]
  },
  {
   "cell_type": "code",
   "execution_count": 2,
   "metadata": {},
   "outputs": [],
   "source": [
    "def discriminant(a , b , c):\n",
    "    z = (b**2) - (4 * a * c)\n",
    "    \n",
    "    return z"
   ]
  },
  {
   "cell_type": "markdown",
   "metadata": {},
   "source": [
    "* The correct statement to define solution function should be the following:"
   ]
  },
  {
   "cell_type": "code",
   "execution_count": 3,
   "metadata": {
    "collapsed": true
   },
   "outputs": [],
   "source": [
    "def solution(a , b , c):\n",
    "   \n",
    "    x1 = ((-1 * b ) + math.sqrt(b*b-4*a*c)) / (2 * a)\n",
    "    x2 = ((-1 * b ) - math.sqrt(b*b-4*a*c)) / (2 * a)\n",
    "\n",
    "    return x1, x2"
   ]
  },
  {
   "cell_type": "markdown",
   "metadata": {},
   "source": [
    "* The correct statements to define the main() function should be the following:"
   ]
  },
  {
   "cell_type": "code",
   "execution_count": 15,
   "metadata": {},
   "outputs": [
    {
     "name": "stdout",
     "output_type": "stream",
     "text": [
      "enter the A, B, and C of the equation:4,4,1\n",
      "The discriminant =  0.000\n",
      "the root is -0.500\n"
     ]
    }
   ],
   "source": [
    "# Try 1,2,3\n",
    "# Try 1,-4,2\n",
    "# Try -3,5,-6\n",
    "# Try 4,4,1\n",
    "a , b , c = eval(input(\"enter the A, B, and C of the equation:\"))\n",
    "d = 0\n",
    "x1 = 0\n",
    "x2 = 0\n",
    "def main():\n",
    "    d= discriminant(a,b,c)\n",
    "    print(\"The discriminant = \" , format(d , \"0.3f\"))\n",
    "   \n",
    "    if d > 0:\n",
    "        x1, x2 = solution(a,b,c)\n",
    "        print(\"The two roots are\" , format(x1 , \"0.3f\") , \"and\" , format(x2 , \"0.3f\"))\n",
    "    elif d == 0:\n",
    "        x1, x2 = solution(a,b,c)\n",
    "        print(\"the root is\" , format(x1 , \"0.3f\"))\n",
    "    elif d < 0:\n",
    "        print(\"the equation has no real roots.\")\n",
    "main()"
   ]
  },
  {
   "cell_type": "code",
   "execution_count": null,
   "metadata": {
    "collapsed": true
   },
   "outputs": [],
   "source": []
  },
  {
   "cell_type": "code",
   "execution_count": null,
   "metadata": {
    "collapsed": true
   },
   "outputs": [],
   "source": []
  }
 ],
 "metadata": {
  "kernelspec": {
   "display_name": "Python 3",
   "language": "python",
   "name": "python3"
  },
  "language_info": {
   "codemirror_mode": {
    "name": "ipython",
    "version": 3
   },
   "file_extension": ".py",
   "mimetype": "text/x-python",
   "name": "python",
   "nbconvert_exporter": "python",
   "pygments_lexer": "ipython3",
   "version": "3.6.2"
  }
 },
 "nbformat": 4,
 "nbformat_minor": 2
}
