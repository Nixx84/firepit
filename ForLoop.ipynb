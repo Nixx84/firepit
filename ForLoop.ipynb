{
 "cells": [
  {
   "cell_type": "code",
   "execution_count": 5,
   "metadata": {},
   "outputs": [
    {
     "name": "stdout",
     "output_type": "stream",
     "text": [
      "enter sales amount here:10000\n",
      "sales amount\t commission\n",
      "---------------------------\n",
      "10000 \t\t 1000.00\n",
      "15000 \t\t 1800.00\n",
      "20000 \t\t 2400.00\n",
      "25000 \t\t 3000.00\n",
      "30000 \t\t 3600.00\n",
      "35000 \t\t 4200.00\n",
      "40000 \t\t 4800.00\n",
      "45000 \t\t 5400.00\n",
      "50000 \t\t 6000.00\n",
      "55000 \t\t 6600.00\n",
      "60000 \t\t 7200.00\n",
      "65000 \t\t 7800.00\n",
      "70000 \t\t 8400.00\n",
      "75000 \t\t 9000.00\n",
      "80000 \t\t 9600.00\n",
      "85000 \t\t 10200.00\n",
      "90000 \t\t 10800.00\n",
      "95000 \t\t 11400.00\n",
      "100000 \t\t 12000.00\n"
     ]
    }
   ],
   "source": [
    "# define the function\n",
    "def computeCommission(x):\n",
    "    if(x >= .01 and x <= 5000.00):\n",
    "        y = x * .08\n",
    "        print(x, \"\\t\\t\" , format(y,\".02f\"))\n",
    "        return i\n",
    "    elif(x >= 5000.01 and x <= 10000.00):\n",
    "        y = x * .10\n",
    "        print(x, \"\\t\\t\" , format(y,\".02f\"))\n",
    "        return i\n",
    "    else:\n",
    "        y = x * .12\n",
    "        print(x, \"\\t\\t\" , format(y,\".02f\"))\n",
    "        return i\n",
    "\n",
    "# initialize the vars (set prompted value to 10000)\n",
    "x = eval(input(\"enter sales amount here:\"))\n",
    "y = x\n",
    "a = 0\n",
    "b = 19\n",
    "\n",
    "# print the header\n",
    "print(\"sales amount\" \"\\t\" \" commission\")\n",
    "print(\"---------------------------\")\n",
    "\n",
    "# run for loop to iterate 20 times by 5\n",
    "# call the function\n",
    "# increment x by 5000\n",
    "for i in range (a , b):\n",
    "    computeCommission(x)\n",
    "    x += 5000\n"
   ]
  },
  {
   "cell_type": "code",
   "execution_count": null,
   "metadata": {
    "collapsed": true
   },
   "outputs": [],
   "source": []
  }
 ],
 "metadata": {
  "kernelspec": {
   "display_name": "Python 3",
   "language": "python",
   "name": "python3"
  },
  "language_info": {
   "codemirror_mode": {
    "name": "ipython",
    "version": 3
   },
   "file_extension": ".py",
   "mimetype": "text/x-python",
   "name": "python",
   "nbconvert_exporter": "python",
   "pygments_lexer": "ipython3",
   "version": "3.6.2"
  }
 },
 "nbformat": 4,
 "nbformat_minor": 2
}
